{
 "cells": [
  {
   "cell_type": "code",
   "execution_count": 131,
   "metadata": {},
   "outputs": [],
   "source": [
    "import numpy as np\n",
    "import pandas as pd\n",
    "import matplotlib.pyplot as plt\n",
    "import seaborn as sns\n",
    "%matplotlib inline"
   ]
  },
  {
   "cell_type": "code",
   "execution_count": 132,
   "metadata": {},
   "outputs": [
    {
     "data": {
      "text/plain": [
       "(10000, 7)"
      ]
     },
     "execution_count": 132,
     "metadata": {},
     "output_type": "execute_result"
    }
   ],
   "source": [
    "data=pd.read_csv(\"SalaryNaac.csv\")\n",
    "data.shape"
   ]
  },
  {
   "cell_type": "code",
   "execution_count": 133,
   "metadata": {},
   "outputs": [
    {
     "data": {
      "text/html": [
       "<div>\n",
       "<style scoped>\n",
       "    .dataframe tbody tr th:only-of-type {\n",
       "        vertical-align: middle;\n",
       "    }\n",
       "\n",
       "    .dataframe tbody tr th {\n",
       "        vertical-align: top;\n",
       "    }\n",
       "\n",
       "    .dataframe thead th {\n",
       "        text-align: right;\n",
       "    }\n",
       "</style>\n",
       "<table border=\"1\" class=\"dataframe\">\n",
       "  <thead>\n",
       "    <tr style=\"text-align: right;\">\n",
       "      <th></th>\n",
       "      <th>NAAC</th>\n",
       "      <th>Current course</th>\n",
       "      <th>upskill</th>\n",
       "      <th>course_hs</th>\n",
       "      <th>Shares country_hs</th>\n",
       "      <th>ranking</th>\n",
       "      <th>salary</th>\n",
       "    </tr>\n",
       "  </thead>\n",
       "  <tbody>\n",
       "    <tr>\n",
       "      <th>0</th>\n",
       "      <td>B++</td>\n",
       "      <td>BE in Datascience</td>\n",
       "      <td>Datascience</td>\n",
       "      <td>IT</td>\n",
       "      <td>US</td>\n",
       "      <td>35</td>\n",
       "      <td>64500</td>\n",
       "    </tr>\n",
       "    <tr>\n",
       "      <th>1</th>\n",
       "      <td>A+</td>\n",
       "      <td>PG in finance</td>\n",
       "      <td>Art</td>\n",
       "      <td>IT</td>\n",
       "      <td>GERMANY</td>\n",
       "      <td>142</td>\n",
       "      <td>50800</td>\n",
       "    </tr>\n",
       "    <tr>\n",
       "      <th>2</th>\n",
       "      <td>B++</td>\n",
       "      <td>B.Sc</td>\n",
       "      <td>none</td>\n",
       "      <td>IT</td>\n",
       "      <td>OTHER EUROPIAN COUNTRY</td>\n",
       "      <td>31</td>\n",
       "      <td>50900</td>\n",
       "    </tr>\n",
       "    <tr>\n",
       "      <th>3</th>\n",
       "      <td>NO GRADE</td>\n",
       "      <td>BCom</td>\n",
       "      <td>Datascience</td>\n",
       "      <td>IT</td>\n",
       "      <td>AUSTRALIA</td>\n",
       "      <td>69</td>\n",
       "      <td>58600</td>\n",
       "    </tr>\n",
       "    <tr>\n",
       "      <th>4</th>\n",
       "      <td>A++</td>\n",
       "      <td>BE in others</td>\n",
       "      <td>Art</td>\n",
       "      <td>Management</td>\n",
       "      <td>OTHER ASIAN COUNTRY</td>\n",
       "      <td>129</td>\n",
       "      <td>46600</td>\n",
       "    </tr>\n",
       "    <tr>\n",
       "      <th>...</th>\n",
       "      <td>...</td>\n",
       "      <td>...</td>\n",
       "      <td>...</td>\n",
       "      <td>...</td>\n",
       "      <td>...</td>\n",
       "      <td>...</td>\n",
       "      <td>...</td>\n",
       "    </tr>\n",
       "    <tr>\n",
       "      <th>9995</th>\n",
       "      <td>B</td>\n",
       "      <td>B.Sc</td>\n",
       "      <td>Art</td>\n",
       "      <td>none</td>\n",
       "      <td>GERMANY</td>\n",
       "      <td>97</td>\n",
       "      <td>45800</td>\n",
       "    </tr>\n",
       "    <tr>\n",
       "      <th>9996</th>\n",
       "      <td>D</td>\n",
       "      <td>BE in others</td>\n",
       "      <td>Finance</td>\n",
       "      <td>Finance</td>\n",
       "      <td>none</td>\n",
       "      <td>197</td>\n",
       "      <td>35800</td>\n",
       "    </tr>\n",
       "    <tr>\n",
       "      <th>9997</th>\n",
       "      <td>C</td>\n",
       "      <td>PG in finance</td>\n",
       "      <td>IT</td>\n",
       "      <td>Finance</td>\n",
       "      <td>GERMANY</td>\n",
       "      <td>148</td>\n",
       "      <td>46700</td>\n",
       "    </tr>\n",
       "    <tr>\n",
       "      <th>9998</th>\n",
       "      <td>B++</td>\n",
       "      <td>BA</td>\n",
       "      <td>Art</td>\n",
       "      <td>IT</td>\n",
       "      <td>none</td>\n",
       "      <td>188</td>\n",
       "      <td>42700</td>\n",
       "    </tr>\n",
       "    <tr>\n",
       "      <th>9999</th>\n",
       "      <td>B+</td>\n",
       "      <td>CA</td>\n",
       "      <td>Datascience</td>\n",
       "      <td>Finance</td>\n",
       "      <td>INDIA</td>\n",
       "      <td>160</td>\n",
       "      <td>48000</td>\n",
       "    </tr>\n",
       "  </tbody>\n",
       "</table>\n",
       "<p>10000 rows × 7 columns</p>\n",
       "</div>"
      ],
      "text/plain": [
       "          NAAC     Current course      upskill   course_hs  \\\n",
       "0          B++  BE in Datascience  Datascience          IT   \n",
       "1           A+      PG in finance          Art          IT   \n",
       "2          B++               B.Sc         none          IT   \n",
       "3     NO GRADE               BCom  Datascience          IT   \n",
       "4          A++       BE in others          Art  Management   \n",
       "...        ...                ...          ...         ...   \n",
       "9995         B               B.Sc          Art        none   \n",
       "9996         D       BE in others      Finance     Finance   \n",
       "9997         C      PG in finance           IT     Finance   \n",
       "9998       B++                 BA          Art          IT   \n",
       "9999        B+                 CA  Datascience     Finance   \n",
       "\n",
       "           Shares country_hs  ranking  salary  \n",
       "0                         US       35   64500  \n",
       "1                    GERMANY      142   50800  \n",
       "2     OTHER EUROPIAN COUNTRY       31   50900  \n",
       "3                  AUSTRALIA       69   58600  \n",
       "4        OTHER ASIAN COUNTRY      129   46600  \n",
       "...                      ...      ...     ...  \n",
       "9995                 GERMANY       97   45800  \n",
       "9996                    none      197   35800  \n",
       "9997                 GERMANY      148   46700  \n",
       "9998                    none      188   42700  \n",
       "9999                   INDIA      160   48000  \n",
       "\n",
       "[10000 rows x 7 columns]"
      ]
     },
     "execution_count": 133,
     "metadata": {},
     "output_type": "execute_result"
    }
   ],
   "source": [
    "data"
   ]
  },
  {
   "cell_type": "markdown",
   "metadata": {},
   "source": [
    "<h3>Missing Values</h3>"
   ]
  },
  {
   "cell_type": "code",
   "execution_count": 134,
   "metadata": {},
   "outputs": [],
   "source": [
    "for i in data.columns:\n",
    "    if data[i].dtype==\"O\" and data[i].isnull().sum()>0:\n",
    "        data[i].fillna(\"Missing\",inplace=True)\n",
    "    elif data[i].isnull().sum()>0:\n",
    "        data[i].fillna(data[i].median(),inplace=True)\n",
    "        \n",
    "        "
   ]
  },
  {
   "cell_type": "markdown",
   "metadata": {},
   "source": [
    "<h4>Feature Engineering</h4>"
   ]
  },
  {
   "cell_type": "code",
   "execution_count": 135,
   "metadata": {},
   "outputs": [],
   "source": [
    "CategoricalFeatures=[feature for feature in data.columns if data[feature].dtype=='O']\n",
    "CategoricalFeatures.remove('NAAC')"
   ]
  },
  {
   "cell_type": "code",
   "execution_count": 136,
   "metadata": {},
   "outputs": [],
   "source": [
    "# for feature in CategoricalFeatures:\n",
    "#     labels_ordered=data.groupby([feature])['salary'].mean().sort_values().index\n",
    "#     labels_ordered={k:i for i,k in enumerate(labels_ordered,0)}\n",
    "#     data[feature]=data[feature].map(labels_ordered)\n",
    "# data"
   ]
  },
  {
   "cell_type": "code",
   "execution_count": 137,
   "metadata": {},
   "outputs": [],
   "source": [
    "Manipulation={'NAAC':[['NO GRADE','D','C','B','B+','B++','A','A+','A++'],[0,1,2,3,4,5,6,7,8]],\n",
    "              'upskill':[['none','Datascience','Art','IT','Finance','Managment'],[0,1,2,3,4,5]],\n",
    "              'Current course':[['BE in Datascience', 'PG in finance', 'B.Sc', 'BCom','BE in others', 'PG in HR', 'PG in Marketing','BE in cse,electronics,IT,Telecom', 'CA', 'BA','PG in datascience'],[0,1,2,3,4,5,6,7,8,9,10]],\n",
    "              'course_hs':[['none','IT', 'Management', 'Engineering', 'Economics','Finance', 'others'],[0,1,2,3,4,5,6]],\n",
    "              'Shares country_hs':[['none','US', 'GERMANY', 'OTHER EUROPIAN COUNTRY', 'AUSTRALIA',\n",
    "       'OTHER ASIAN COUNTRY', 'UK', 'CANADA', 'INDIA'],[0,1,2,3,4,5,6,7,8]]}"
   ]
  },
  {
   "cell_type": "code",
   "execution_count": 138,
   "metadata": {},
   "outputs": [],
   "source": [
    "data['NAAC'].replace(Manipulation['NAAC'][0],Manipulation['NAAC'][1],inplace=True)\n",
    "\n"
   ]
  },
  {
   "cell_type": "code",
   "execution_count": 139,
   "metadata": {},
   "outputs": [],
   "source": [
    "data['upskill'].replace(Manipulation['upskill'][0],Manipulation['upskill'][1],inplace=True)"
   ]
  },
  {
   "cell_type": "code",
   "execution_count": 140,
   "metadata": {},
   "outputs": [],
   "source": [
    "data['Current course'].replace(Manipulation['Current course'][0],Manipulation['Current course'][1],inplace=True)"
   ]
  },
  {
   "cell_type": "code",
   "execution_count": 141,
   "metadata": {},
   "outputs": [],
   "source": [
    "data['course_hs'].replace(Manipulation['course_hs'][0],Manipulation['course_hs'][1],inplace=True)"
   ]
  },
  {
   "cell_type": "code",
   "execution_count": 142,
   "metadata": {},
   "outputs": [],
   "source": [
    "data['Shares country_hs'].replace(Manipulation['Shares country_hs'][0],Manipulation['Shares country_hs'][1],inplace=True)"
   ]
  },
  {
   "cell_type": "code",
   "execution_count": 113,
   "metadata": {},
   "outputs": [
    {
     "data": {
      "text/html": [
       "<div>\n",
       "<style scoped>\n",
       "    .dataframe tbody tr th:only-of-type {\n",
       "        vertical-align: middle;\n",
       "    }\n",
       "\n",
       "    .dataframe tbody tr th {\n",
       "        vertical-align: top;\n",
       "    }\n",
       "\n",
       "    .dataframe thead th {\n",
       "        text-align: right;\n",
       "    }\n",
       "</style>\n",
       "<table border=\"1\" class=\"dataframe\">\n",
       "  <thead>\n",
       "    <tr style=\"text-align: right;\">\n",
       "      <th></th>\n",
       "      <th>NAAC</th>\n",
       "      <th>Current course</th>\n",
       "      <th>upskill</th>\n",
       "      <th>course_hs</th>\n",
       "      <th>Shares country_hs</th>\n",
       "      <th>ranking</th>\n",
       "      <th>salary</th>\n",
       "    </tr>\n",
       "  </thead>\n",
       "  <tbody>\n",
       "    <tr>\n",
       "      <th>0</th>\n",
       "      <td>5</td>\n",
       "      <td>0</td>\n",
       "      <td>1</td>\n",
       "      <td>1</td>\n",
       "      <td>1</td>\n",
       "      <td>35</td>\n",
       "      <td>64500</td>\n",
       "    </tr>\n",
       "    <tr>\n",
       "      <th>1</th>\n",
       "      <td>7</td>\n",
       "      <td>1</td>\n",
       "      <td>2</td>\n",
       "      <td>1</td>\n",
       "      <td>2</td>\n",
       "      <td>142</td>\n",
       "      <td>50800</td>\n",
       "    </tr>\n",
       "    <tr>\n",
       "      <th>2</th>\n",
       "      <td>5</td>\n",
       "      <td>2</td>\n",
       "      <td>0</td>\n",
       "      <td>1</td>\n",
       "      <td>3</td>\n",
       "      <td>31</td>\n",
       "      <td>50900</td>\n",
       "    </tr>\n",
       "    <tr>\n",
       "      <th>3</th>\n",
       "      <td>0</td>\n",
       "      <td>3</td>\n",
       "      <td>1</td>\n",
       "      <td>1</td>\n",
       "      <td>4</td>\n",
       "      <td>69</td>\n",
       "      <td>58600</td>\n",
       "    </tr>\n",
       "    <tr>\n",
       "      <th>4</th>\n",
       "      <td>8</td>\n",
       "      <td>4</td>\n",
       "      <td>2</td>\n",
       "      <td>2</td>\n",
       "      <td>5</td>\n",
       "      <td>129</td>\n",
       "      <td>46600</td>\n",
       "    </tr>\n",
       "    <tr>\n",
       "      <th>...</th>\n",
       "      <td>...</td>\n",
       "      <td>...</td>\n",
       "      <td>...</td>\n",
       "      <td>...</td>\n",
       "      <td>...</td>\n",
       "      <td>...</td>\n",
       "      <td>...</td>\n",
       "    </tr>\n",
       "    <tr>\n",
       "      <th>9995</th>\n",
       "      <td>3</td>\n",
       "      <td>2</td>\n",
       "      <td>2</td>\n",
       "      <td>0</td>\n",
       "      <td>2</td>\n",
       "      <td>97</td>\n",
       "      <td>45800</td>\n",
       "    </tr>\n",
       "    <tr>\n",
       "      <th>9996</th>\n",
       "      <td>1</td>\n",
       "      <td>4</td>\n",
       "      <td>4</td>\n",
       "      <td>5</td>\n",
       "      <td>0</td>\n",
       "      <td>197</td>\n",
       "      <td>35800</td>\n",
       "    </tr>\n",
       "    <tr>\n",
       "      <th>9997</th>\n",
       "      <td>2</td>\n",
       "      <td>1</td>\n",
       "      <td>3</td>\n",
       "      <td>5</td>\n",
       "      <td>2</td>\n",
       "      <td>148</td>\n",
       "      <td>46700</td>\n",
       "    </tr>\n",
       "    <tr>\n",
       "      <th>9998</th>\n",
       "      <td>5</td>\n",
       "      <td>9</td>\n",
       "      <td>2</td>\n",
       "      <td>1</td>\n",
       "      <td>0</td>\n",
       "      <td>188</td>\n",
       "      <td>42700</td>\n",
       "    </tr>\n",
       "    <tr>\n",
       "      <th>9999</th>\n",
       "      <td>4</td>\n",
       "      <td>8</td>\n",
       "      <td>1</td>\n",
       "      <td>5</td>\n",
       "      <td>8</td>\n",
       "      <td>160</td>\n",
       "      <td>48000</td>\n",
       "    </tr>\n",
       "  </tbody>\n",
       "</table>\n",
       "<p>10000 rows × 7 columns</p>\n",
       "</div>"
      ],
      "text/plain": [
       "      NAAC  Current course  upskill  course_hs  Shares country_hs  ranking  \\\n",
       "0        5               0        1          1                  1       35   \n",
       "1        7               1        2          1                  2      142   \n",
       "2        5               2        0          1                  3       31   \n",
       "3        0               3        1          1                  4       69   \n",
       "4        8               4        2          2                  5      129   \n",
       "...    ...             ...      ...        ...                ...      ...   \n",
       "9995     3               2        2          0                  2       97   \n",
       "9996     1               4        4          5                  0      197   \n",
       "9997     2               1        3          5                  2      148   \n",
       "9998     5               9        2          1                  0      188   \n",
       "9999     4               8        1          5                  8      160   \n",
       "\n",
       "      salary  \n",
       "0      64500  \n",
       "1      50800  \n",
       "2      50900  \n",
       "3      58600  \n",
       "4      46600  \n",
       "...      ...  \n",
       "9995   45800  \n",
       "9996   35800  \n",
       "9997   46700  \n",
       "9998   42700  \n",
       "9999   48000  \n",
       "\n",
       "[10000 rows x 7 columns]"
      ]
     },
     "execution_count": 113,
     "metadata": {},
     "output_type": "execute_result"
    }
   ],
   "source": [
    "data"
   ]
  },
  {
   "cell_type": "code",
   "execution_count": 114,
   "metadata": {},
   "outputs": [],
   "source": [
    "# data['ranking']=200-data['ranking']"
   ]
  },
  {
   "cell_type": "markdown",
   "metadata": {},
   "source": [
    "<h4> Scaling the Data</h4>"
   ]
  },
  {
   "cell_type": "code",
   "execution_count": 143,
   "metadata": {},
   "outputs": [
    {
     "data": {
      "text/plain": [
       "[]"
      ]
     },
     "execution_count": 143,
     "metadata": {},
     "output_type": "execute_result"
    },
    {
     "data": {
      "image/png": "[encoded data removed]",
      "text/plain": [
       "<Figure size 432x288 with 1 Axes>"
      ]
     },
     "metadata": {
      "needs_background": "light"
     },
     "output_type": "display_data"
    }
   ],
   "source": [
    "plt.hist(data['salary'],bins=30)\n",
    "plt.xlabel(\"Salary\")\n",
    "plt.ylabel(\"Students\")\n",
    "plt.plot()"
   ]
  },
  {
   "cell_type": "code",
   "execution_count": 144,
   "metadata": {},
   "outputs": [],
   "source": [
    "data=data[data['salary']!=0]\n",
    "data['salary']=np.log(data['salary'])\n",
    "    "
   ]
  },
  {
   "cell_type": "code",
   "execution_count": 117,
   "metadata": {},
   "outputs": [
    {
     "data": {
      "text/plain": [
       "[]"
      ]
     },
     "execution_count": 117,
     "metadata": {},
     "output_type": "execute_result"
    },
    {
     "data": {
      "image/png": "[encoded data removed]",
      "text/plain": [
       "<Figure size 432x288 with 1 Axes>"
      ]
     },
     "metadata": {
      "needs_background": "light"
     },
     "output_type": "display_data"
    }
   ],
   "source": [
    "plt.hist(data['salary'],bins=30)\n",
    "plt.xlabel(\"Salary\")\n",
    "plt.ylabel(\"Students\")\n",
    "plt.plot()"
   ]
  },
  {
   "cell_type": "code",
   "execution_count": 145,
   "metadata": {},
   "outputs": [
    {
     "data": {
      "text/plain": [
       "(10000, 44)"
      ]
     },
     "execution_count": 145,
     "metadata": {},
     "output_type": "execute_result"
    }
   ],
   "source": [
    "features=data.columns.delete(-1)\n",
    "\n",
    "data=pd.get_dummies(data,columns=['NAAC','Current course','upskill','course_hs','Shares country_hs'])\n",
    "data.shape"
   ]
  },
  {
   "cell_type": "code",
   "execution_count": 123,
   "metadata": {},
   "outputs": [],
   "source": [
    "# features=data.columns.delete(-1)\n",
    "    \n",
    "# from sklearn.preprocessing import MinMaxScaler\n",
    "# scale=MinMaxScaler()\n",
    "# scale.fit(data[features])\n",
    "# arr=scale.transform(data[features])\n",
    "\n"
   ]
  },
  {
   "cell_type": "code",
   "execution_count": 124,
   "metadata": {},
   "outputs": [
    {
     "data": {
      "text/html": [
       "<div>\n",
       "<style scoped>\n",
       "    .dataframe tbody tr th:only-of-type {\n",
       "        vertical-align: middle;\n",
       "    }\n",
       "\n",
       "    .dataframe tbody tr th {\n",
       "        vertical-align: top;\n",
       "    }\n",
       "\n",
       "    .dataframe thead th {\n",
       "        text-align: right;\n",
       "    }\n",
       "</style>\n",
       "<table border=\"1\" class=\"dataframe\">\n",
       "  <thead>\n",
       "    <tr style=\"text-align: right;\">\n",
       "      <th></th>\n",
       "      <th>NAAC</th>\n",
       "      <th>Current course</th>\n",
       "      <th>upskill</th>\n",
       "      <th>course_hs</th>\n",
       "      <th>Shares country_hs</th>\n",
       "      <th>ranking</th>\n",
       "      <th>salary</th>\n",
       "    </tr>\n",
       "  </thead>\n",
       "  <tbody>\n",
       "    <tr>\n",
       "      <th>0</th>\n",
       "      <td>0.625</td>\n",
       "      <td>0.0</td>\n",
       "      <td>0.2</td>\n",
       "      <td>0.166667</td>\n",
       "      <td>0.125</td>\n",
       "      <td>0.830</td>\n",
       "      <td>11.074421</td>\n",
       "    </tr>\n",
       "    <tr>\n",
       "      <th>1</th>\n",
       "      <td>0.875</td>\n",
       "      <td>0.1</td>\n",
       "      <td>0.4</td>\n",
       "      <td>0.166667</td>\n",
       "      <td>0.250</td>\n",
       "      <td>0.295</td>\n",
       "      <td>10.835652</td>\n",
       "    </tr>\n",
       "    <tr>\n",
       "      <th>2</th>\n",
       "      <td>0.625</td>\n",
       "      <td>0.2</td>\n",
       "      <td>0.0</td>\n",
       "      <td>0.166667</td>\n",
       "      <td>0.375</td>\n",
       "      <td>0.850</td>\n",
       "      <td>10.837618</td>\n",
       "    </tr>\n",
       "    <tr>\n",
       "      <th>3</th>\n",
       "      <td>0.000</td>\n",
       "      <td>0.3</td>\n",
       "      <td>0.2</td>\n",
       "      <td>0.166667</td>\n",
       "      <td>0.500</td>\n",
       "      <td>0.660</td>\n",
       "      <td>10.978490</td>\n",
       "    </tr>\n",
       "    <tr>\n",
       "      <th>4</th>\n",
       "      <td>1.000</td>\n",
       "      <td>0.4</td>\n",
       "      <td>0.4</td>\n",
       "      <td>0.333333</td>\n",
       "      <td>0.625</td>\n",
       "      <td>0.360</td>\n",
       "      <td>10.749356</td>\n",
       "    </tr>\n",
       "    <tr>\n",
       "      <th>...</th>\n",
       "      <td>...</td>\n",
       "      <td>...</td>\n",
       "      <td>...</td>\n",
       "      <td>...</td>\n",
       "      <td>...</td>\n",
       "      <td>...</td>\n",
       "      <td>...</td>\n",
       "    </tr>\n",
       "    <tr>\n",
       "      <th>9995</th>\n",
       "      <td>0.375</td>\n",
       "      <td>0.2</td>\n",
       "      <td>0.4</td>\n",
       "      <td>0.000000</td>\n",
       "      <td>0.250</td>\n",
       "      <td>0.520</td>\n",
       "      <td>10.732039</td>\n",
       "    </tr>\n",
       "    <tr>\n",
       "      <th>9996</th>\n",
       "      <td>0.125</td>\n",
       "      <td>0.4</td>\n",
       "      <td>0.8</td>\n",
       "      <td>0.833333</td>\n",
       "      <td>0.000</td>\n",
       "      <td>0.020</td>\n",
       "      <td>10.485703</td>\n",
       "    </tr>\n",
       "    <tr>\n",
       "      <th>9997</th>\n",
       "      <td>0.250</td>\n",
       "      <td>0.1</td>\n",
       "      <td>0.6</td>\n",
       "      <td>0.833333</td>\n",
       "      <td>0.250</td>\n",
       "      <td>0.265</td>\n",
       "      <td>10.751499</td>\n",
       "    </tr>\n",
       "    <tr>\n",
       "      <th>9998</th>\n",
       "      <td>0.625</td>\n",
       "      <td>0.9</td>\n",
       "      <td>0.4</td>\n",
       "      <td>0.166667</td>\n",
       "      <td>0.000</td>\n",
       "      <td>0.065</td>\n",
       "      <td>10.661954</td>\n",
       "    </tr>\n",
       "    <tr>\n",
       "      <th>9999</th>\n",
       "      <td>0.500</td>\n",
       "      <td>0.8</td>\n",
       "      <td>0.2</td>\n",
       "      <td>0.833333</td>\n",
       "      <td>1.000</td>\n",
       "      <td>0.205</td>\n",
       "      <td>10.778956</td>\n",
       "    </tr>\n",
       "  </tbody>\n",
       "</table>\n",
       "<p>10000 rows × 7 columns</p>\n",
       "</div>"
      ],
      "text/plain": [
       "       NAAC  Current course  upskill  course_hs  Shares country_hs  ranking  \\\n",
       "0     0.625             0.0      0.2   0.166667              0.125    0.830   \n",
       "1     0.875             0.1      0.4   0.166667              0.250    0.295   \n",
       "2     0.625             0.2      0.0   0.166667              0.375    0.850   \n",
       "3     0.000             0.3      0.2   0.166667              0.500    0.660   \n",
       "4     1.000             0.4      0.4   0.333333              0.625    0.360   \n",
       "...     ...             ...      ...        ...                ...      ...   \n",
       "9995  0.375             0.2      0.4   0.000000              0.250    0.520   \n",
       "9996  0.125             0.4      0.8   0.833333              0.000    0.020   \n",
       "9997  0.250             0.1      0.6   0.833333              0.250    0.265   \n",
       "9998  0.625             0.9      0.4   0.166667              0.000    0.065   \n",
       "9999  0.500             0.8      0.2   0.833333              1.000    0.205   \n",
       "\n",
       "         salary  \n",
       "0     11.074421  \n",
       "1     10.835652  \n",
       "2     10.837618  \n",
       "3     10.978490  \n",
       "4     10.749356  \n",
       "...         ...  \n",
       "9995  10.732039  \n",
       "9996  10.485703  \n",
       "9997  10.751499  \n",
       "9998  10.661954  \n",
       "9999  10.778956  \n",
       "\n",
       "[10000 rows x 7 columns]"
      ]
     },
     "execution_count": 124,
     "metadata": {},
     "output_type": "execute_result"
    }
   ],
   "source": [
    "# dataset=pd.concat([pd.DataFrame(arr,columns=features),data['salary']],axis=1)\n",
    "# dataset\n",
    "# # pd.DataFrame(arr,columns=features)"
   ]
  },
  {
   "cell_type": "markdown",
   "metadata": {},
   "source": [
    "<h3>Building Models</h3>"
   ]
  },
  {
   "cell_type": "code",
   "execution_count": 151,
   "metadata": {},
   "outputs": [
    {
     "data": {
      "text/plain": [
       "Index(['ranking', 'NAAC_0', 'NAAC_1', 'NAAC_2', 'NAAC_3', 'NAAC_4', 'NAAC_5',\n",
       "       'NAAC_6', 'NAAC_7', 'NAAC_8', 'Current course_0', 'Current course_1',\n",
       "       'Current course_2', 'Current course_3', 'Current course_4',\n",
       "       'Current course_5', 'Current course_6', 'Current course_7',\n",
       "       'Current course_8', 'Current course_9', 'Current course_10',\n",
       "       'upskill_0', 'upskill_1', 'upskill_2', 'upskill_3', 'upskill_4',\n",
       "       'upskill_5', 'course_hs_0', 'course_hs_1', 'course_hs_2', 'course_hs_3',\n",
       "       'course_hs_4', 'course_hs_5', 'course_hs_6', 'Shares country_hs_0',\n",
       "       'Shares country_hs_1', 'Shares country_hs_2', 'Shares country_hs_3',\n",
       "       'Shares country_hs_4', 'Shares country_hs_5', 'Shares country_hs_6',\n",
       "       'Shares country_hs_7', 'Shares country_hs_8'],\n",
       "      dtype='object')"
      ]
     },
     "execution_count": 151,
     "metadata": {},
     "output_type": "execute_result"
    }
   ],
   "source": [
    "SelectedFeatures=data.columns.delete(1)\n",
    "SelectedFeatures"
   ]
  },
  {
   "cell_type": "code",
   "execution_count": 149,
   "metadata": {},
   "outputs": [],
   "source": [
    "from sklearn.linear_model import LinearRegression\n",
    "from sklearn.model_selection import train_test_split"
   ]
  },
  {
   "cell_type": "code",
   "execution_count": 152,
   "metadata": {},
   "outputs": [],
   "source": [
    "Model1Features=['NAAC_0', 'NAAC_1', 'NAAC_2', 'NAAC_3', 'NAAC_4', 'NAAC_5',\n",
    "       'NAAC_6', 'NAAC_7', 'NAAC_8', 'Current course_0', 'Current course_1',\n",
    "       'Current course_2', 'Current course_3', 'Current course_4',\n",
    "       'Current course_5', 'Current course_6', 'Current course_7',\n",
    "       'Current course_8', 'Current course_9', 'Current course_10',\n",
    "       'upskill_0', 'upskill_1', 'upskill_2', 'upskill_3', 'upskill_4',\n",
    "       'upskill_5']\n",
    "Model2Features=['NAAC_0', 'NAAC_1', 'NAAC_2', 'NAAC_3', 'NAAC_4', 'NAAC_5',\n",
    "       'NAAC_6', 'NAAC_7', 'NAAC_8','course_hs_0', 'course_hs_1', 'course_hs_2', 'course_hs_3',\n",
    "       'course_hs_4', 'course_hs_5', 'course_hs_6', 'Shares country_hs_0',\n",
    "       'Shares country_hs_1', 'Shares country_hs_2', 'Shares country_hs_3',\n",
    "       'Shares country_hs_4', 'Shares country_hs_5', 'Shares country_hs_6',\n",
    "       'Shares country_hs_7', 'Shares country_hs_8','ranking']\n",
    "\n",
    "\n",
    "TrainX1,TestX1,TrainX2,TestX2,TrainY,TestY=train_test_split(data[Model1Features],data[Model2Features],data['salary'],train_size=0.8,random_state=101)\n",
    "\n"
   ]
  },
  {
   "cell_type": "code",
   "execution_count": 153,
   "metadata": {},
   "outputs": [],
   "source": [
    "import joblib"
   ]
  },
  {
   "cell_type": "code",
   "execution_count": 154,
   "metadata": {},
   "outputs": [
    {
     "data": {
      "text/plain": [
       "0.1400051363994801"
      ]
     },
     "execution_count": 154,
     "metadata": {},
     "output_type": "execute_result"
    }
   ],
   "source": [
    "\n",
    "Model1=LinearRegression()\n",
    "Model1.fit(TrainX1,TrainY)\n",
    "Model1.score(TestX1,TestY)\n",
    "joblib.dump(Model1,'Model1.pkl')\n",
    "joblib.dump(TestX1,'TestX1.pkl')\n",
    "# Model1.predict()"
   ]
  },
  {
   "cell_type": "code",
   "execution_count": 155,
   "metadata": {},
   "outputs": [
    {
     "data": {
      "text/plain": [
       "0.8590892695024052"
      ]
     },
     "execution_count": 155,
     "metadata": {},
     "output_type": "execute_result"
    }
   ],
   "source": [
    "Model2=LinearRegression()\n",
    "Model2.fit(TrainX2,TrainY)\n",
    "Model2.score(TestX2,TestY)\n"
   ]
  },
  {
   "cell_type": "markdown",
   "metadata": {},
   "source": [
    "<h4>Predicting Salaries</h4>"
   ]
  },
  {
   "cell_type": "code",
   "execution_count": 70,
   "metadata": {},
   "outputs": [],
   "source": [
    "DataToPredict=None"
   ]
  },
  {
   "cell_type": "code",
   "execution_count": 71,
   "metadata": {},
   "outputs": [],
   "source": [
    "#data conversion is required for the given data"
   ]
  },
  {
   "cell_type": "code",
   "execution_count": 73,
   "metadata": {},
   "outputs": [
    {
     "ename": "TypeError",
     "evalue": "'NoneType' object is not subscriptable",
     "output_type": "error",
     "traceback": [
      "\u001b[1;31m---------------------------------------------------------------------------\u001b[0m",
      "\u001b[1;31mTypeError\u001b[0m                                 Traceback (most recent call last)",
      "\u001b[1;32m~\\AppData\\Local\\Temp/ipykernel_31676/1591115759.py\u001b[0m in \u001b[0;36m<module>\u001b[1;34m\u001b[0m\n\u001b[1;32m----> 1\u001b[1;33m \u001b[0mPredictedSal\u001b[0m\u001b[1;33m=\u001b[0m\u001b[0mModel1\u001b[0m\u001b[1;33m.\u001b[0m\u001b[0mpredict\u001b[0m\u001b[1;33m(\u001b[0m\u001b[0mDataToPredict\u001b[0m\u001b[1;33m[\u001b[0m\u001b[0mModel1Features\u001b[0m\u001b[1;33m]\u001b[0m\u001b[1;33m)\u001b[0m\u001b[1;33m\u001b[0m\u001b[1;33m\u001b[0m\u001b[0m\n\u001b[0m",
      "\u001b[1;31mTypeError\u001b[0m: 'NoneType' object is not subscriptable"
     ]
    }
   ],
   "source": [
    "PredictedSal=Model1.predict(DataToPredict[Model1Features])\n"
   ]
  },
  {
   "cell_type": "code",
   "execution_count": 159,
   "metadata": {},
   "outputs": [
    {
     "ename": "TypeError",
     "evalue": "'NoneType' object is not subscriptable",
     "output_type": "error",
     "traceback": [
      "\u001b[1;31m---------------------------------------------------------------------------\u001b[0m",
      "\u001b[1;31mTypeError\u001b[0m                                 Traceback (most recent call last)",
      "\u001b[1;32m~\\AppData\\Local\\Temp/ipykernel_31676/3746108217.py\u001b[0m in \u001b[0;36m<module>\u001b[1;34m\u001b[0m\n\u001b[1;32m----> 1\u001b[1;33m \u001b[0mPredictedSal2\u001b[0m\u001b[1;33m=\u001b[0m\u001b[0mModel2\u001b[0m\u001b[1;33m.\u001b[0m\u001b[0mpredict\u001b[0m\u001b[1;33m(\u001b[0m\u001b[0mDataToPredict\u001b[0m\u001b[1;33m[\u001b[0m\u001b[0mModel2Features\u001b[0m\u001b[1;33m]\u001b[0m\u001b[1;33m)\u001b[0m\u001b[1;33m\u001b[0m\u001b[1;33m\u001b[0m\u001b[0m\n\u001b[0m",
      "\u001b[1;31mTypeError\u001b[0m: 'NoneType' object is not subscriptable"
     ]
    }
   ],
   "source": [
    "PredictedSal2=Model2.predict(DataToPredict[Model2Features])"
   ]
  },
  {
   "cell_type": "code",
   "execution_count": 173,
   "metadata": {},
   "outputs": [
    {
     "data": {
      "text/html": [
       "<div>\n",
       "<style scoped>\n",
       "    .dataframe tbody tr th:only-of-type {\n",
       "        vertical-align: middle;\n",
       "    }\n",
       "\n",
       "    .dataframe tbody tr th {\n",
       "        vertical-align: top;\n",
       "    }\n",
       "\n",
       "    .dataframe thead th {\n",
       "        text-align: right;\n",
       "    }\n",
       "</style>\n",
       "<table border=\"1\" class=\"dataframe\">\n",
       "  <thead>\n",
       "    <tr style=\"text-align: right;\">\n",
       "      <th></th>\n",
       "      <th>NAAC</th>\n",
       "      <th>Current course</th>\n",
       "      <th>upskill</th>\n",
       "      <th>course_hs</th>\n",
       "      <th>Shares country_hs</th>\n",
       "      <th>ranking</th>\n",
       "      <th>salary</th>\n",
       "      <th>NAAC_1</th>\n",
       "      <th>NAAC_2</th>\n",
       "      <th>NAAC_3</th>\n",
       "      <th>NAAC_4</th>\n",
       "      <th>NAAC_5</th>\n",
       "      <th>NAAC_6</th>\n",
       "      <th>NAAC_7</th>\n",
       "    </tr>\n",
       "  </thead>\n",
       "  <tbody>\n",
       "    <tr>\n",
       "      <th>0</th>\n",
       "      <td>5</td>\n",
       "      <td>BE in Datascience</td>\n",
       "      <td>Datascience</td>\n",
       "      <td>IT</td>\n",
       "      <td>US</td>\n",
       "      <td>35</td>\n",
       "      <td>64500</td>\n",
       "      <td>0</td>\n",
       "      <td>0</td>\n",
       "      <td>0</td>\n",
       "      <td>0</td>\n",
       "      <td>0</td>\n",
       "      <td>0</td>\n",
       "      <td>0</td>\n",
       "    </tr>\n",
       "  </tbody>\n",
       "</table>\n",
       "</div>"
      ],
      "text/plain": [
       "   NAAC     Current course      upskill course_hs Shares country_hs  ranking  \\\n",
       "0     5  BE in Datascience  Datascience        IT                US       35   \n",
       "\n",
       "   salary  NAAC_1  NAAC_2  NAAC_3  NAAC_4  NAAC_5  NAAC_6  NAAC_7  \n",
       "0   64500       0       0       0       0       0       0       0  "
      ]
     },
     "execution_count": 173,
     "metadata": {},
     "output_type": "execute_result"
    }
   ],
   "source": [
    "df=pd.read_csv('test.csv')\n",
    "df['NAAC'].replace(Manipulation['NAAC'][0],Manipulation['NAAC'][1],inplace=True)\n",
    "df"
   ]
  },
  {
   "cell_type": "code",
   "execution_count": 165,
   "metadata": {},
   "outputs": [],
   "source": [
    "df=pd.get_dummies(df,columns=['NAAC'])"
   ]
  },
  {
   "cell_type": "code",
   "execution_count": 166,
   "metadata": {},
   "outputs": [
    {
     "data": {
      "text/html": [
       "<div>\n",
       "<style scoped>\n",
       "    .dataframe tbody tr th:only-of-type {\n",
       "        vertical-align: middle;\n",
       "    }\n",
       "\n",
       "    .dataframe tbody tr th {\n",
       "        vertical-align: top;\n",
       "    }\n",
       "\n",
       "    .dataframe thead th {\n",
       "        text-align: right;\n",
       "    }\n",
       "</style>\n",
       "<table border=\"1\" class=\"dataframe\">\n",
       "  <thead>\n",
       "    <tr style=\"text-align: right;\">\n",
       "      <th></th>\n",
       "      <th>Current course</th>\n",
       "      <th>upskill</th>\n",
       "      <th>course_hs</th>\n",
       "      <th>Shares country_hs</th>\n",
       "      <th>ranking</th>\n",
       "      <th>salary</th>\n",
       "      <th>NAAC_1</th>\n",
       "      <th>NAAC_2</th>\n",
       "      <th>NAAC_3</th>\n",
       "      <th>NAAC_4</th>\n",
       "      <th>NAAC_5</th>\n",
       "      <th>NAAC_6</th>\n",
       "      <th>NAAC_7</th>\n",
       "      <th>NAAC_5</th>\n",
       "    </tr>\n",
       "  </thead>\n",
       "  <tbody>\n",
       "    <tr>\n",
       "      <th>0</th>\n",
       "      <td>BE in Datascience</td>\n",
       "      <td>Datascience</td>\n",
       "      <td>IT</td>\n",
       "      <td>US</td>\n",
       "      <td>35</td>\n",
       "      <td>64500</td>\n",
       "      <td>0</td>\n",
       "      <td>0</td>\n",
       "      <td>0</td>\n",
       "      <td>0</td>\n",
       "      <td>0</td>\n",
       "      <td>0</td>\n",
       "      <td>0</td>\n",
       "      <td>1</td>\n",
       "    </tr>\n",
       "  </tbody>\n",
       "</table>\n",
       "</div>"
      ],
      "text/plain": [
       "      Current course      upskill course_hs Shares country_hs  ranking  \\\n",
       "0  BE in Datascience  Datascience        IT                US       35   \n",
       "\n",
       "   salary  NAAC_1  NAAC_2  NAAC_3  NAAC_4  NAAC_5  NAAC_6  NAAC_7  NAAC_5  \n",
       "0   64500       0       0       0       0       0       0       0       1  "
      ]
     },
     "execution_count": 166,
     "metadata": {},
     "output_type": "execute_result"
    }
   ],
   "source": [
    "df"
   ]
  },
  {
   "cell_type": "code",
   "execution_count": 167,
   "metadata": {},
   "outputs": [
    {
     "data": {
      "text/plain": [
       "Index(['Current course', 'upskill', 'course_hs', 'Shares country_hs',\n",
       "       'ranking', 'salary', 'NAAC_1', 'NAAC_2', 'NAAC_3', 'NAAC_4', 'NAAC_5',\n",
       "       'NAAC_6', 'NAAC_7', 'NAAC_5'],\n",
       "      dtype='object')"
      ]
     },
     "execution_count": 167,
     "metadata": {},
     "output_type": "execute_result"
    }
   ],
   "source": [
    "df.columns"
   ]
  },
  {
   "cell_type": "code",
   "execution_count": 177,
   "metadata": {},
   "outputs": [
    {
     "data": {
      "text/plain": [
       "0    0\n",
       "Name: NAAC_5, dtype: int64"
      ]
     },
     "execution_count": 177,
     "metadata": {},
     "output_type": "execute_result"
    }
   ],
   "source": [
    "i=str(df.at[0,'NAAC'])\n",
    "df['NAAC_'+i]\n",
    "# print(i)"
   ]
  }
 ],
 "metadata": {
  "interpreter": {
   "hash": "1e915f0a29dc84041eaeb02b7b1a21c440e37a87b61d44d5e84a515737dc82bc"
  },
  "kernelspec": {
   "display_name": "Python 3.9.7 ('base')",
   "language": "python",
   "name": "python3"
  },
  "language_info": {
   "codemirror_mode": {
    "name": "ipython",
    "version": 3
   },
   "file_extension": ".py",
   "mimetype": "text/x-python",
   "name": "python",
   "nbconvert_exporter": "python",
   "pygments_lexer": "ipython3",
   "version": "3.9.7"
  },
  "orig_nbformat": 4
 },
 "nbformat": 4,
 "nbformat_minor": 2
}
